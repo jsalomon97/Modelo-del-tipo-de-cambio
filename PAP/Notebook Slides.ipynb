{
 "cells": [
  {
   "cell_type": "markdown",
   "metadata": {
    "slideshow": {
     "slide_type": "slide"
    }
   },
   "source": [
    "<img style=\"float: align; margin: 0px 0px 15px 15px;\" src=\"https://www.iteso.mx/documents/27014/202031/Logo-ITESO-MinimoV.png\" width=\"150px\" height=\"200px\" />\n",
    "\n",
    "# Proyecto de Aplicación Profesional. MODELO PARA PRONOSTICAR EL TIPO DE CAMBIO MEDIANTE LA CORRECION DE LA MONEDA CON UN INDICE.\n",
    "\n",
    "\n",
    "## <font color=\"RED\">**INTEGRANTE:**</font>\n",
    "\n",
    "<img style=\"float: right; margin: 0px 0px 15px 15px;\" src=\"https://www.elcontribuyente.mx/wp-content/uploads/2019/06/Tipo-cambio-mercado-divisas-d%C3%B3lar-pesos-768x427.jpg\" width=\"300px\" height=\"200px\" />\n",
    "\n",
    "    Jesús Manuel Salomón Calderón.\n",
    "\n",
    "\n",
    "## <font color=\"RED\">**PROFESOR:**</font>\n",
    "    Francisco Muñoz."
   ]
  },
  {
   "cell_type": "markdown",
   "metadata": {
    "slideshow": {
     "slide_type": "slide"
    }
   },
   "source": [
    "#  <span style=\"color:blue\">1.1 Descripción del trabajo </span>"
   ]
  },
  {
   "cell_type": "markdown",
   "metadata": {
    "slideshow": {
     "slide_type": "slide"
    }
   },
   "source": [
    "## <font color = \"green\" > **¿Qué es un tipo de cambio?**: \n",
    "\n",
    "    El tipo de cambio es una referencia que se usa en el mercado cambiario para conocer el número de unidades de moneda nacional que deben pagarse para obtener una moneda extranjera, o similarmente, el número de unidades de moneda nacional que se obtienen al vender una unidad de moneda extranjera.\n"
   ]
  },
  {
   "cell_type": "markdown",
   "metadata": {
    "slideshow": {
     "slide_type": "slide"
    }
   },
   "source": [
    "## <font color = \"green\" > **¿Qué es Forex?**: \n",
    "<img style=\"float: right; margin: 0px 0px 15px 15px;\" src=\"https://elconferencista.net/wp-content/uploads/2017/02/forex.jpg\" width=\"200px\" height=\"130px\" />\n",
    "    \n",
    "    También es conocido como mercado de divisas, es un mercado mundial descentralizado de todas las divisas que se operan en todo el mundo. Este mercado es el más grande y más líquido del mundo, con un volumen diario de operaciones que supera los 5 billones de dólares. Los demás mercados bursátiles en el mundo en conjunto no se acercan a esto. "
   ]
  },
  {
   "cell_type": "markdown",
   "metadata": {
    "slideshow": {
     "slide_type": "slide"
    }
   },
   "source": [
    "## <font color = \"green\" > **¿Cómo se pronostica el tipo de cambio?**:     \n",
    "    \n",
    "    Pronosticar el tipo de cambio es muy importante para personas físicas como para empresas. Existen personas que generan ganancias sobre la compra y venta de este. Para las empresas que importan o exportan algún bien o servicio es importante para saber cuánto tiene que pagar y cobrar en su negocio. Para esto se utilizan pronósticos para el tipo de cambio, existen dos métodos conocidos, el análisis fundamental y el análisis técnico. En el análisis fundamental existen dos métodos que son el método de la balanza de pagos y el método de mercado de activos.\n",
    "    \n",
    "<img style=\"float: right; margin: 0px 0px 15px 15px;\" src=\"https://cdn-3.expansion.mx/dims4/default/262ba47/2147483647/strip/true/crop/1346x779+0+0/resize/800x463!/quality/90/?url=https%3A%2F%2Fcherry-brightspot.s3.amazonaws.com%2Fea%2Fa3%2F7b3d5b574101abb484e551f0e01c%2Ftipo-de-cambio-pronostico-bola-cristral-is-vallariee.jpg\" width=\"200px\" height=\"130px\" />"
   ]
  },
  {
   "cell_type": "markdown",
   "metadata": {
    "slideshow": {
     "slide_type": "slide"
    }
   },
   "source": [
    "#  <span style=\"color:blue\">**1.2 Objetivos**</span>\n",
    "\n",
    "#### 1.2.1 Objetivo general.\n",
    "\n",
    "* Analizar la correlación en una serie de tiempo que existe entre el IPC y el tipo de cambio entre dólar estadounidense y peso mexicano para poder predecir si el tipo de cambio va hacia la alza o a la baja.  \n",
    " \n",
    "\n",
    "#### 1.2.2 Objetivo específico.\n",
    "* Dividir el periodo de tiempo en series de tiempo semanales para obtener la correlación semanal y poder  ver como varia el comportamiento de hacia la alza y la baja.\n",
    "\n",
    "* Bajo el modelo de correlación que utilizamos ver que oportunidades de traiding existen entre el IPC y el tipo de cambio.\n",
    "\n",
    "* Comparar los resultados obtenido con los modelos de promedios móviles y tendencia para ver qué modelo es más eficaz y por qué.\n"
   ]
  },
  {
   "cell_type": "markdown",
   "metadata": {
    "slideshow": {
     "slide_type": "slide"
    }
   },
   "source": [
    "#  <span style=\"color:blue\">**1.3 Modelo matemático**</span>\n",
    "\n",
    "\n",
    "### <span style=\"color:green\">**Correlación **</span>\n",
    "\n",
    "la correlación alude a la proporcionalidad y la relación lineal que existe entre distintas variables. Si los valores de una variable se modifican de manera sistemática con respecto a los valores de otra, se dice que ambas variables se encuentran correlacionadas.\n",
    "\n",
    "Supongamos que tenemos una variable R y una variable S. Al aumentar los valores de R, aumentan los valores de S. De igual modo, al aumentar los valores de S, se incrementan los valores de R. Por lo tanto hay una correlación entre las variables R y S.es son colineales de dirección opuesto."
   ]
  },
  {
   "cell_type": "markdown",
   "metadata": {
    "slideshow": {
     "slide_type": "slide"
    }
   },
   "source": [
    "#  <span style=\"color:blue\">**Obtener datos**</span>\n",
    "\n",
    "Para realizar el proyector utilizaremos Oanda para sacar los datos históricos del tipo de cambio y Yahoo para el IPC."
   ]
  },
  {
   "cell_type": "code",
   "execution_count": 2,
   "metadata": {
    "slideshow": {
     "slide_type": "slide"
    }
   },
   "outputs": [],
   "source": [
    "# importando modulos necesarios\n",
    "import numpy as np\n",
    "import pandas as pd\n",
    "import pandas_datareader as web\n",
    "import datetime as dt\n",
    "#from pydataset import data\n",
    "import statsmodels.api as sm \n",
    "import pandas\n",
    "\n",
    "# librerías de visualizaciones\n",
    "import seaborn as sns\n",
    "import matplotlib.pyplot as plt \n",
    "\n",
    "\n",
    "# graficos incrustados\n",
    "%matplotlib inline\n",
    "import plotly.graph_objects as go\n",
    "import plotly.io as pio                             # renderizador para visualizar imagenes\n",
    "pio.renderers.default = \"browser\"   \n",
    "\n",
    "\n",
    "# pandas solo 4 decimales\n",
    "pd.set_option('precision', 4)\n",
    "import math\n",
    "\n",
    "from datetime import timedelta                            # para incrementos de fechas\n",
    "from oandapyV20 import API                                # conexion con broker OANDA\n",
    "import oandapyV20.endpoints.instruments as instruments    # informacion de precios historicos"
   ]
  },
  {
   "cell_type": "markdown",
   "metadata": {
    "slideshow": {
     "slide_type": "slide"
    }
   },
   "source": [
    "Creamos una función para sacar los precios masivos del tipo de cambio donde se pueda sacar el precio de cierre a una hora determinada."
   ]
  },
  {
   "cell_type": "code",
   "execution_count": 3,
   "metadata": {
    "slideshow": {
     "slide_type": "slide"
    }
   },
   "outputs": [],
   "source": [
    "def f_precios_masivos(p0_fini, p1_ffin, p2_gran, p3_inst, p4_oatk, p5_ginc):\n",
    "    \"\"\"\n",
    "    Parameters\n",
    "    ----------\n",
    "    p0_fini\n",
    "    p1_ffin\n",
    "    p2_gran\n",
    "    p3_inst\n",
    "    p4_oatk\n",
    "    p5_ginc\n",
    "\n",
    "    Returns\n",
    "    -------\n",
    "    dc_precios\n",
    "\n",
    "    Debugging\n",
    "    ---------\n",
    "\n",
    "    \"\"\"\n",
    "\n",
    "    def f_datetime_range_fx(p0_start, p1_end, p2_inc, p3_delta):\n",
    "        \"\"\"\n",
    "\n",
    "        Parameters\n",
    "        ----------\n",
    "        p0_start\n",
    "        p1_end\n",
    "        p2_inc\n",
    "        p3_delta\n",
    "\n",
    "        Returns\n",
    "        -------\n",
    "        ls_resultado\n",
    "\n",
    "        Debugging\n",
    "        ---------\n",
    "        \"\"\"\n",
    "\n",
    "        ls_result = []\n",
    "        nxt = p0_start\n",
    "\n",
    "        while nxt <= p1_end:\n",
    "            ls_result.append(nxt)\n",
    "            if p3_delta == 'minutes':\n",
    "                nxt += timedelta(minutes=p2_inc)\n",
    "            elif p3_delta == 'hours':\n",
    "                nxt += timedelta(hours=p2_inc)\n",
    "            elif p3_delta == 'days':\n",
    "                nxt += timedelta(days=p2_inc)\n",
    "\n",
    "        return ls_result\n",
    "\n",
    "    # inicializar api de OANDA\n",
    "\n",
    "    api = API(access_token=p4_oatk)\n",
    "\n",
    "    gn = {'S30': 30, 'S10': 10, 'S5': 5, 'M1': 60, 'M5': 60 * 5, 'M15': 60 * 15,\n",
    "          'M30': 60 * 30, 'H1': 60 * 60, 'H4': 60 * 60 * 4, 'H8': 60 * 60 * 8,\n",
    "          'D': 60 * 60 * 24, 'W': 60 * 60 * 24 * 7, 'M': 60 * 60 * 24 * 7 * 4}\n",
    "\n",
    "    # -- para el caso donde con 1 peticion se cubran las 2 fechas\n",
    "    if int((p1_ffin - p0_fini).total_seconds() / gn[p2_gran]) < 4999:\n",
    "\n",
    "        # Fecha inicial y fecha final\n",
    "        f1 = p0_fini.strftime('%Y-%m-%dT%H:%M:%S')\n",
    "        f2 = p1_ffin.strftime('%Y-%m-%dT%H:%M:%S')\n",
    "\n",
    "        # Parametros pra la peticion de precios\n",
    "        params = {\"granularity\": p2_gran, \"price\": \"M\", \"dailyAlignment\": 16, \"from\": f1,\n",
    "                  \"to\": f2}\n",
    "\n",
    "        # Ejecutar la peticion de precios\n",
    "        a1_req1 = instruments.InstrumentsCandles(instrument=p3_inst, params=params)\n",
    "        a1_hist = api.request(a1_req1)\n",
    "\n",
    "        # Para debuging\n",
    "        # print(f1 + ' y ' + f2)\n",
    "        lista = list()\n",
    "\n",
    "        # Acomodar las llaves\n",
    "        for i in range(len(a1_hist['candles']) - 1):\n",
    "            lista.append({'TimeStamp': a1_hist['candles'][i]['time'],\n",
    "                          'Open': a1_hist['candles'][i]['mid']['o'],\n",
    "                          'High': a1_hist['candles'][i]['mid']['h'],\n",
    "                          'Low': a1_hist['candles'][i]['mid']['l'],\n",
    "                          'Close': a1_hist['candles'][i]['mid']['c']})\n",
    "\n",
    "        # Acomodar en un data frame\n",
    "        r_df_final = pd.DataFrame(lista)\n",
    "        r_df_final = r_df_final[['TimeStamp', 'Open', 'High', 'Low', 'Close']]\n",
    "        r_df_final['TimeStamp'] = pd.to_datetime(r_df_final['TimeStamp'])\n",
    "\n",
    "        return r_df_final\n",
    "\n",
    "    # -- para el caso donde se construyen fechas secuenciales\n",
    "    else:\n",
    "\n",
    "        # hacer series de fechas e iteraciones para pedir todos los precios\n",
    "        fechas = f_datetime_range_fx(p0_start=p0_fini, p1_end=p1_ffin, p2_inc=p5_ginc,\n",
    "                                     p3_delta='minutes')\n",
    "\n",
    "        # Lista para ir guardando los data frames\n",
    "        lista_df = list()\n",
    "\n",
    "        for n_fecha in range(0, len(fechas) - 1):\n",
    "\n",
    "            # Fecha inicial y fecha final\n",
    "            f1 = fechas[n_fecha].strftime('%Y-%m-%dT%H:%M:%S')\n",
    "            f2 = fechas[n_fecha + 1].strftime('%Y-%m-%dT%H:%M:%S')\n",
    "\n",
    "            # Parametros pra la peticion de precios\n",
    "            params = {\"granularity\": p2_gran, \"price\": \"M\", \"dailyAlignment\": 16, \"from\": f1,\n",
    "                      \"to\": f2}\n",
    "\n",
    "            # Ejecutar la peticion de precios\n",
    "            a1_req1 = instruments.InstrumentsCandles(instrument=p3_inst, params=params)\n",
    "            a1_hist = api.request(a1_req1)\n",
    "\n",
    "            # Para debuging\n",
    "            print(f1 + ' y ' + f2)\n",
    "            lista = list()\n",
    "\n",
    "            # Acomodar las llaves\n",
    "            for i in range(len(a1_hist['candles']) - 1):\n",
    "                lista.append({'TimeStamp': a1_hist['candles'][i]['time'],\n",
    "                              'Open': a1_hist['candles'][i]['mid']['o'],\n",
    "                              'High': a1_hist['candles'][i]['mid']['h'],\n",
    "                              'Low': a1_hist['candles'][i]['mid']['l'],\n",
    "                              'Close': a1_hist['candles'][i]['mid']['c']})\n",
    "\n",
    "            # Acomodar en un data frame\n",
    "            pd_hist = pd.DataFrame(lista)\n",
    "            pd_hist = pd_hist[['TimeStamp', 'Open', 'High', 'Low', 'Close']]\n",
    "            pd_hist['TimeStamp'] = pd.to_datetime(pd_hist['TimeStamp'])\n",
    "\n",
    "            # Ir guardando resultados en una lista\n",
    "            lista_df.append(pd_hist)\n",
    "\n",
    "        # Concatenar todas las listas\n",
    "        r_df_final = pd.concat([lista_df[i] for i in range(0, len(lista_df))])\n",
    "\n",
    "        # resetear index en dataframe resultante porque guarda los indices del dataframe pasado\n",
    "        r_df_final = r_df_final.reset_index(drop=True)\n",
    "\n",
    "        return r_df_final"
   ]
  },
  {
   "cell_type": "markdown",
   "metadata": {
    "slideshow": {
     "slide_type": "slide"
    }
   },
   "source": [
    "Damos los parámetros del tipo de cambio diario y con hora de cierre a las 4pm (hora de la Ciudad de México) porque es la hora en la que cierra la bolsa mexicana de valores."
   ]
  },
  {
   "cell_type": "code",
   "execution_count": 5,
   "metadata": {
    "slideshow": {
     "slide_type": "slide"
    }
   },
   "outputs": [
    {
     "data": {
      "text/html": [
       "<div>\n",
       "<style scoped>\n",
       "    .dataframe tbody tr th:only-of-type {\n",
       "        vertical-align: middle;\n",
       "    }\n",
       "\n",
       "    .dataframe tbody tr th {\n",
       "        vertical-align: top;\n",
       "    }\n",
       "\n",
       "    .dataframe thead th {\n",
       "        text-align: right;\n",
       "    }\n",
       "</style>\n",
       "<table border=\"1\" class=\"dataframe\">\n",
       "  <thead>\n",
       "    <tr style=\"text-align: right;\">\n",
       "      <th></th>\n",
       "      <th>TimeStamp</th>\n",
       "      <th>Open</th>\n",
       "      <th>High</th>\n",
       "      <th>Low</th>\n",
       "      <th>Close</th>\n",
       "    </tr>\n",
       "  </thead>\n",
       "  <tbody>\n",
       "    <tr>\n",
       "      <td>0</td>\n",
       "      <td>2019-01-02 21:00:00+00:00</td>\n",
       "      <td>19.54222</td>\n",
       "      <td>19.67294</td>\n",
       "      <td>19.53274</td>\n",
       "      <td>19.61683</td>\n",
       "    </tr>\n",
       "    <tr>\n",
       "      <td>1</td>\n",
       "      <td>2019-01-03 21:00:00+00:00</td>\n",
       "      <td>19.61683</td>\n",
       "      <td>19.67196</td>\n",
       "      <td>19.37229</td>\n",
       "      <td>19.41802</td>\n",
       "    </tr>\n",
       "    <tr>\n",
       "      <td>2</td>\n",
       "      <td>2019-01-04 21:00:00+00:00</td>\n",
       "      <td>19.41797</td>\n",
       "      <td>19.43522</td>\n",
       "      <td>19.41419</td>\n",
       "      <td>19.41949</td>\n",
       "    </tr>\n",
       "    <tr>\n",
       "      <td>3</td>\n",
       "      <td>2019-01-06 21:00:00+00:00</td>\n",
       "      <td>19.42026</td>\n",
       "      <td>19.47598</td>\n",
       "      <td>19.29360</td>\n",
       "      <td>19.36470</td>\n",
       "    </tr>\n",
       "    <tr>\n",
       "      <td>4</td>\n",
       "      <td>2019-01-07 21:00:00+00:00</td>\n",
       "      <td>19.36470</td>\n",
       "      <td>19.43734</td>\n",
       "      <td>19.28222</td>\n",
       "      <td>19.37658</td>\n",
       "    </tr>\n",
       "    <tr>\n",
       "      <td>...</td>\n",
       "      <td>...</td>\n",
       "      <td>...</td>\n",
       "      <td>...</td>\n",
       "      <td>...</td>\n",
       "      <td>...</td>\n",
       "    </tr>\n",
       "    <tr>\n",
       "      <td>304</td>\n",
       "      <td>2019-12-23 21:00:00+00:00</td>\n",
       "      <td>18.95446</td>\n",
       "      <td>18.98820</td>\n",
       "      <td>18.92516</td>\n",
       "      <td>18.98230</td>\n",
       "    </tr>\n",
       "    <tr>\n",
       "      <td>305</td>\n",
       "      <td>2019-12-24 21:00:00+00:00</td>\n",
       "      <td>18.98220</td>\n",
       "      <td>18.98235</td>\n",
       "      <td>18.97354</td>\n",
       "      <td>18.97384</td>\n",
       "    </tr>\n",
       "    <tr>\n",
       "      <td>306</td>\n",
       "      <td>2019-12-25 21:00:00+00:00</td>\n",
       "      <td>18.97095</td>\n",
       "      <td>18.97890</td>\n",
       "      <td>18.93164</td>\n",
       "      <td>18.93997</td>\n",
       "    </tr>\n",
       "    <tr>\n",
       "      <td>307</td>\n",
       "      <td>2019-12-26 21:00:00+00:00</td>\n",
       "      <td>18.93988</td>\n",
       "      <td>18.95692</td>\n",
       "      <td>18.80714</td>\n",
       "      <td>18.86414</td>\n",
       "    </tr>\n",
       "    <tr>\n",
       "      <td>308</td>\n",
       "      <td>2019-12-27 21:00:00+00:00</td>\n",
       "      <td>18.86417</td>\n",
       "      <td>18.86759</td>\n",
       "      <td>18.83490</td>\n",
       "      <td>18.83823</td>\n",
       "    </tr>\n",
       "  </tbody>\n",
       "</table>\n",
       "<p>309 rows × 5 columns</p>\n",
       "</div>"
      ],
      "text/plain": [
       "                    TimeStamp      Open      High       Low     Close\n",
       "0   2019-01-02 21:00:00+00:00  19.54222  19.67294  19.53274  19.61683\n",
       "1   2019-01-03 21:00:00+00:00  19.61683  19.67196  19.37229  19.41802\n",
       "2   2019-01-04 21:00:00+00:00  19.41797  19.43522  19.41419  19.41949\n",
       "3   2019-01-06 21:00:00+00:00  19.42026  19.47598  19.29360  19.36470\n",
       "4   2019-01-07 21:00:00+00:00  19.36470  19.43734  19.28222  19.37658\n",
       "..                        ...       ...       ...       ...       ...\n",
       "304 2019-12-23 21:00:00+00:00  18.95446  18.98820  18.92516  18.98230\n",
       "305 2019-12-24 21:00:00+00:00  18.98220  18.98235  18.97354  18.97384\n",
       "306 2019-12-25 21:00:00+00:00  18.97095  18.97890  18.93164  18.93997\n",
       "307 2019-12-26 21:00:00+00:00  18.93988  18.95692  18.80714  18.86414\n",
       "308 2019-12-27 21:00:00+00:00  18.86417  18.86759  18.83490  18.83823\n",
       "\n",
       "[309 rows x 5 columns]"
      ]
     },
     "execution_count": 5,
     "metadata": {},
     "output_type": "execute_result"
    }
   ],
   "source": [
    "OA_Ak = 'c' + 'a81fea8e4689da24e8b8321bc17865c-74dcb8a83c923513f674956e910a99b' +'c'\n",
    "#from datos import OA_Ak           \n",
    "#import funciones as fn\n",
    "\n",
    "OA_Gn = \"D\";                     # Granularidad de velas\n",
    "OA_In = \"USD_MXN\";\n",
    "fi = \"2019-01-03 16:00:00\" ;     #Fecha inicial \n",
    "ff   =  \"2019-12-30 16:00:00\";    #Fecha Fianl \n",
    "fini = (pd.to_datetime(fi).tz_localize('GMT')) - timedelta(hours=6); # Fecha inicial\n",
    "ffin = (pd.to_datetime(ff).tz_localize('GMT')) - timedelta(hours=6);  # Fecha\n",
    "#data = fn.f_precios_masivos(p0_fini=fini, p1_ffin=ffin, p2_gran=OA_Gn,p3_inst=OA_In, p4_oatk=OA_Ak, p5_ginc=4900)  \n",
    "dolar = f_precios_masivos(p0_fini=fini, p1_ffin=ffin, p2_gran=OA_Gn,p3_inst=OA_In, p4_oatk=OA_Ak, p5_ginc=4900)  \n",
    "dolar"
   ]
  },
  {
   "cell_type": "markdown",
   "metadata": {
    "slideshow": {
     "slide_type": "slide"
    }
   },
   "source": [
    "Como podemos notar tenemos una tabla ya con los precios pero nos interesa separarlos por semana, por lo tanto agregaremos una columna que nos identifique en que semana estamos."
   ]
  },
  {
   "cell_type": "code",
   "execution_count": 6,
   "metadata": {
    "slideshow": {
     "slide_type": "slide"
    }
   },
   "outputs": [
    {
     "data": {
      "text/html": [
       "<div>\n",
       "<style scoped>\n",
       "    .dataframe tbody tr th:only-of-type {\n",
       "        vertical-align: middle;\n",
       "    }\n",
       "\n",
       "    .dataframe tbody tr th {\n",
       "        vertical-align: top;\n",
       "    }\n",
       "\n",
       "    .dataframe thead th {\n",
       "        text-align: right;\n",
       "    }\n",
       "</style>\n",
       "<table border=\"1\" class=\"dataframe\">\n",
       "  <thead>\n",
       "    <tr style=\"text-align: right;\">\n",
       "      <th></th>\n",
       "      <th>TimeStamp</th>\n",
       "      <th>Open</th>\n",
       "      <th>High</th>\n",
       "      <th>Low</th>\n",
       "      <th>Close</th>\n",
       "      <th>semana</th>\n",
       "    </tr>\n",
       "  </thead>\n",
       "  <tbody>\n",
       "    <tr>\n",
       "      <td>0</td>\n",
       "      <td>2019-01-02 21:00:00+00:00</td>\n",
       "      <td>19.54222</td>\n",
       "      <td>19.67294</td>\n",
       "      <td>19.53274</td>\n",
       "      <td>19.61683</td>\n",
       "      <td>1</td>\n",
       "    </tr>\n",
       "    <tr>\n",
       "      <td>1</td>\n",
       "      <td>2019-01-03 21:00:00+00:00</td>\n",
       "      <td>19.61683</td>\n",
       "      <td>19.67196</td>\n",
       "      <td>19.37229</td>\n",
       "      <td>19.41802</td>\n",
       "      <td>1</td>\n",
       "    </tr>\n",
       "    <tr>\n",
       "      <td>2</td>\n",
       "      <td>2019-01-04 21:00:00+00:00</td>\n",
       "      <td>19.41797</td>\n",
       "      <td>19.43522</td>\n",
       "      <td>19.41419</td>\n",
       "      <td>19.41949</td>\n",
       "      <td>1</td>\n",
       "    </tr>\n",
       "    <tr>\n",
       "      <td>3</td>\n",
       "      <td>2019-01-06 21:00:00+00:00</td>\n",
       "      <td>19.42026</td>\n",
       "      <td>19.47598</td>\n",
       "      <td>19.29360</td>\n",
       "      <td>19.36470</td>\n",
       "      <td>1</td>\n",
       "    </tr>\n",
       "    <tr>\n",
       "      <td>4</td>\n",
       "      <td>2019-01-07 21:00:00+00:00</td>\n",
       "      <td>19.36470</td>\n",
       "      <td>19.43734</td>\n",
       "      <td>19.28222</td>\n",
       "      <td>19.37658</td>\n",
       "      <td>2</td>\n",
       "    </tr>\n",
       "    <tr>\n",
       "      <td>...</td>\n",
       "      <td>...</td>\n",
       "      <td>...</td>\n",
       "      <td>...</td>\n",
       "      <td>...</td>\n",
       "      <td>...</td>\n",
       "      <td>...</td>\n",
       "    </tr>\n",
       "    <tr>\n",
       "      <td>304</td>\n",
       "      <td>2019-12-23 21:00:00+00:00</td>\n",
       "      <td>18.95446</td>\n",
       "      <td>18.98820</td>\n",
       "      <td>18.92516</td>\n",
       "      <td>18.98230</td>\n",
       "      <td>52</td>\n",
       "    </tr>\n",
       "    <tr>\n",
       "      <td>305</td>\n",
       "      <td>2019-12-24 21:00:00+00:00</td>\n",
       "      <td>18.98220</td>\n",
       "      <td>18.98235</td>\n",
       "      <td>18.97354</td>\n",
       "      <td>18.97384</td>\n",
       "      <td>52</td>\n",
       "    </tr>\n",
       "    <tr>\n",
       "      <td>306</td>\n",
       "      <td>2019-12-25 21:00:00+00:00</td>\n",
       "      <td>18.97095</td>\n",
       "      <td>18.97890</td>\n",
       "      <td>18.93164</td>\n",
       "      <td>18.93997</td>\n",
       "      <td>52</td>\n",
       "    </tr>\n",
       "    <tr>\n",
       "      <td>307</td>\n",
       "      <td>2019-12-26 21:00:00+00:00</td>\n",
       "      <td>18.93988</td>\n",
       "      <td>18.95692</td>\n",
       "      <td>18.80714</td>\n",
       "      <td>18.86414</td>\n",
       "      <td>52</td>\n",
       "    </tr>\n",
       "    <tr>\n",
       "      <td>308</td>\n",
       "      <td>2019-12-27 21:00:00+00:00</td>\n",
       "      <td>18.86417</td>\n",
       "      <td>18.86759</td>\n",
       "      <td>18.83490</td>\n",
       "      <td>18.83823</td>\n",
       "      <td>52</td>\n",
       "    </tr>\n",
       "  </tbody>\n",
       "</table>\n",
       "<p>309 rows × 6 columns</p>\n",
       "</div>"
      ],
      "text/plain": [
       "                    TimeStamp      Open      High       Low     Close  semana\n",
       "0   2019-01-02 21:00:00+00:00  19.54222  19.67294  19.53274  19.61683       1\n",
       "1   2019-01-03 21:00:00+00:00  19.61683  19.67196  19.37229  19.41802       1\n",
       "2   2019-01-04 21:00:00+00:00  19.41797  19.43522  19.41419  19.41949       1\n",
       "3   2019-01-06 21:00:00+00:00  19.42026  19.47598  19.29360  19.36470       1\n",
       "4   2019-01-07 21:00:00+00:00  19.36470  19.43734  19.28222  19.37658       2\n",
       "..                        ...       ...       ...       ...       ...     ...\n",
       "304 2019-12-23 21:00:00+00:00  18.95446  18.98820  18.92516  18.98230      52\n",
       "305 2019-12-24 21:00:00+00:00  18.98220  18.98235  18.97354  18.97384      52\n",
       "306 2019-12-25 21:00:00+00:00  18.97095  18.97890  18.93164  18.93997      52\n",
       "307 2019-12-26 21:00:00+00:00  18.93988  18.95692  18.80714  18.86414      52\n",
       "308 2019-12-27 21:00:00+00:00  18.86417  18.86759  18.83490  18.83823      52\n",
       "\n",
       "[309 rows x 6 columns]"
      ]
     },
     "execution_count": 6,
     "metadata": {},
     "output_type": "execute_result"
    }
   ],
   "source": [
    "a=0\n",
    "b=dolar.index.stop\n",
    "semana=[]\n",
    "for a in range(b):\n",
    "    semana.append(dolar['TimeStamp'][a].week)\n",
    "    a=a+1\n",
    "dolar['semana']=pd.Series(semana,  index=dolar.index)\n",
    "dolar"
   ]
  },
  {
   "cell_type": "markdown",
   "metadata": {
    "slideshow": {
     "slide_type": "slide"
    }
   },
   "source": [
    "Como el tipo de cambio nunca cierra nos agrega los domingos, por lo tanto tenemos que quitarlos. Lo que hicimos fue identificar el primer domingo y hacer un ciclo que cada 6 días nos de el valor del domingo para poder quitarlo de DataFrame. Como en México existen días festivos que en otros países no, también los tenemos que quitar pero en este caso son de forma manual porque cada año las fechas cambian."
   ]
  },
  {
   "cell_type": "code",
   "execution_count": 7,
   "metadata": {
    "slideshow": {
     "slide_type": "slide"
    }
   },
   "outputs": [
    {
     "data": {
      "text/html": [
       "<div>\n",
       "<style scoped>\n",
       "    .dataframe tbody tr th:only-of-type {\n",
       "        vertical-align: middle;\n",
       "    }\n",
       "\n",
       "    .dataframe tbody tr th {\n",
       "        vertical-align: top;\n",
       "    }\n",
       "\n",
       "    .dataframe thead th {\n",
       "        text-align: right;\n",
       "    }\n",
       "</style>\n",
       "<table border=\"1\" class=\"dataframe\">\n",
       "  <thead>\n",
       "    <tr style=\"text-align: right;\">\n",
       "      <th></th>\n",
       "      <th>TimeStamp</th>\n",
       "      <th>Open</th>\n",
       "      <th>High</th>\n",
       "      <th>Low</th>\n",
       "      <th>Close</th>\n",
       "      <th>semana</th>\n",
       "    </tr>\n",
       "  </thead>\n",
       "  <tbody>\n",
       "    <tr>\n",
       "      <td>0</td>\n",
       "      <td>2019-01-02 21:00:00+00:00</td>\n",
       "      <td>19.54222</td>\n",
       "      <td>19.67294</td>\n",
       "      <td>19.53274</td>\n",
       "      <td>19.61683</td>\n",
       "      <td>1</td>\n",
       "    </tr>\n",
       "    <tr>\n",
       "      <td>1</td>\n",
       "      <td>2019-01-03 21:00:00+00:00</td>\n",
       "      <td>19.61683</td>\n",
       "      <td>19.67196</td>\n",
       "      <td>19.37229</td>\n",
       "      <td>19.41802</td>\n",
       "      <td>1</td>\n",
       "    </tr>\n",
       "    <tr>\n",
       "      <td>2</td>\n",
       "      <td>2019-01-04 21:00:00+00:00</td>\n",
       "      <td>19.41797</td>\n",
       "      <td>19.43522</td>\n",
       "      <td>19.41419</td>\n",
       "      <td>19.41949</td>\n",
       "      <td>1</td>\n",
       "    </tr>\n",
       "    <tr>\n",
       "      <td>4</td>\n",
       "      <td>2019-01-07 21:00:00+00:00</td>\n",
       "      <td>19.36470</td>\n",
       "      <td>19.43734</td>\n",
       "      <td>19.28222</td>\n",
       "      <td>19.37658</td>\n",
       "      <td>2</td>\n",
       "    </tr>\n",
       "    <tr>\n",
       "      <td>5</td>\n",
       "      <td>2019-01-08 21:00:00+00:00</td>\n",
       "      <td>19.37653</td>\n",
       "      <td>19.38240</td>\n",
       "      <td>19.20244</td>\n",
       "      <td>19.23003</td>\n",
       "      <td>2</td>\n",
       "    </tr>\n",
       "    <tr>\n",
       "      <td>...</td>\n",
       "      <td>...</td>\n",
       "      <td>...</td>\n",
       "      <td>...</td>\n",
       "      <td>...</td>\n",
       "      <td>...</td>\n",
       "      <td>...</td>\n",
       "    </tr>\n",
       "    <tr>\n",
       "      <td>302</td>\n",
       "      <td>2019-12-20 21:00:00+00:00</td>\n",
       "      <td>18.92972</td>\n",
       "      <td>18.94200</td>\n",
       "      <td>18.91860</td>\n",
       "      <td>18.93739</td>\n",
       "      <td>51</td>\n",
       "    </tr>\n",
       "    <tr>\n",
       "      <td>304</td>\n",
       "      <td>2019-12-23 21:00:00+00:00</td>\n",
       "      <td>18.95446</td>\n",
       "      <td>18.98820</td>\n",
       "      <td>18.92516</td>\n",
       "      <td>18.98230</td>\n",
       "      <td>52</td>\n",
       "    </tr>\n",
       "    <tr>\n",
       "      <td>305</td>\n",
       "      <td>2019-12-24 21:00:00+00:00</td>\n",
       "      <td>18.98220</td>\n",
       "      <td>18.98235</td>\n",
       "      <td>18.97354</td>\n",
       "      <td>18.97384</td>\n",
       "      <td>52</td>\n",
       "    </tr>\n",
       "    <tr>\n",
       "      <td>307</td>\n",
       "      <td>2019-12-26 21:00:00+00:00</td>\n",
       "      <td>18.93988</td>\n",
       "      <td>18.95692</td>\n",
       "      <td>18.80714</td>\n",
       "      <td>18.86414</td>\n",
       "      <td>52</td>\n",
       "    </tr>\n",
       "    <tr>\n",
       "      <td>308</td>\n",
       "      <td>2019-12-27 21:00:00+00:00</td>\n",
       "      <td>18.86417</td>\n",
       "      <td>18.86759</td>\n",
       "      <td>18.83490</td>\n",
       "      <td>18.83823</td>\n",
       "      <td>52</td>\n",
       "    </tr>\n",
       "  </tbody>\n",
       "</table>\n",
       "<p>249 rows × 6 columns</p>\n",
       "</div>"
      ],
      "text/plain": [
       "                    TimeStamp      Open      High       Low     Close  semana\n",
       "0   2019-01-02 21:00:00+00:00  19.54222  19.67294  19.53274  19.61683       1\n",
       "1   2019-01-03 21:00:00+00:00  19.61683  19.67196  19.37229  19.41802       1\n",
       "2   2019-01-04 21:00:00+00:00  19.41797  19.43522  19.41419  19.41949       1\n",
       "4   2019-01-07 21:00:00+00:00  19.36470  19.43734  19.28222  19.37658       2\n",
       "5   2019-01-08 21:00:00+00:00  19.37653  19.38240  19.20244  19.23003       2\n",
       "..                        ...       ...       ...       ...       ...     ...\n",
       "302 2019-12-20 21:00:00+00:00  18.92972  18.94200  18.91860  18.93739      51\n",
       "304 2019-12-23 21:00:00+00:00  18.95446  18.98820  18.92516  18.98230      52\n",
       "305 2019-12-24 21:00:00+00:00  18.98220  18.98235  18.97354  18.97384      52\n",
       "307 2019-12-26 21:00:00+00:00  18.93988  18.95692  18.80714  18.86414      52\n",
       "308 2019-12-27 21:00:00+00:00  18.86417  18.86759  18.83490  18.83823      52\n",
       "\n",
       "[249 rows x 6 columns]"
      ]
     },
     "execution_count": 7,
     "metadata": {},
     "output_type": "execute_result"
    }
   ],
   "source": [
    "sunday=list(range(3, len(dolar), 6))\n",
    "usd2=dolar.drop(sunday,axis=0)\n",
    "usd=usd2.drop([28,64,91,92,102,220,274,295,306],axis=0)\n",
    "#27,63,219,237\n",
    "usd"
   ]
  },
  {
   "cell_type": "markdown",
   "metadata": {
    "slideshow": {
     "slide_type": "slide"
    }
   },
   "source": [
    "Realizaremos lo mismo pasos pero esta vez con el ipc."
   ]
  },
  {
   "cell_type": "code",
   "execution_count": 8,
   "metadata": {
    "slideshow": {
     "slide_type": "slide"
    }
   },
   "outputs": [],
   "source": [
    "ipc = web.DataReader(\"^MXX\", 'yahoo', '2019-1-2', '2019-12-28')"
   ]
  },
  {
   "cell_type": "code",
   "execution_count": 9,
   "metadata": {
    "slideshow": {
     "slide_type": "slide"
    }
   },
   "outputs": [
    {
     "data": {
      "text/html": [
       "<div>\n",
       "<style scoped>\n",
       "    .dataframe tbody tr th:only-of-type {\n",
       "        vertical-align: middle;\n",
       "    }\n",
       "\n",
       "    .dataframe tbody tr th {\n",
       "        vertical-align: top;\n",
       "    }\n",
       "\n",
       "    .dataframe thead th {\n",
       "        text-align: right;\n",
       "    }\n",
       "</style>\n",
       "<table border=\"1\" class=\"dataframe\">\n",
       "  <thead>\n",
       "    <tr style=\"text-align: right;\">\n",
       "      <th></th>\n",
       "      <th>High</th>\n",
       "      <th>Low</th>\n",
       "      <th>Open</th>\n",
       "      <th>Close</th>\n",
       "      <th>Volume</th>\n",
       "      <th>Adj Close</th>\n",
       "      <th>semana</th>\n",
       "    </tr>\n",
       "    <tr>\n",
       "      <th>Date</th>\n",
       "      <th></th>\n",
       "      <th></th>\n",
       "      <th></th>\n",
       "      <th></th>\n",
       "      <th></th>\n",
       "      <th></th>\n",
       "      <th></th>\n",
       "    </tr>\n",
       "  </thead>\n",
       "  <tbody>\n",
       "    <tr>\n",
       "      <td>2019-01-02</td>\n",
       "      <td>42328.5508</td>\n",
       "      <td>41436.4883</td>\n",
       "      <td>41550.7500</td>\n",
       "      <td>42271.1406</td>\n",
       "      <td>68115200</td>\n",
       "      <td>42271.1406</td>\n",
       "      <td>1</td>\n",
       "    </tr>\n",
       "    <tr>\n",
       "      <td>2019-01-03</td>\n",
       "      <td>42292.3906</td>\n",
       "      <td>41699.7812</td>\n",
       "      <td>42172.2617</td>\n",
       "      <td>42044.3203</td>\n",
       "      <td>113098700</td>\n",
       "      <td>42044.3203</td>\n",
       "      <td>1</td>\n",
       "    </tr>\n",
       "    <tr>\n",
       "      <td>2019-01-04</td>\n",
       "      <td>42661.8398</td>\n",
       "      <td>42024.7695</td>\n",
       "      <td>42024.7695</td>\n",
       "      <td>42455.1289</td>\n",
       "      <td>110987200</td>\n",
       "      <td>42455.1289</td>\n",
       "      <td>1</td>\n",
       "    </tr>\n",
       "    <tr>\n",
       "      <td>2019-01-07</td>\n",
       "      <td>42896.1094</td>\n",
       "      <td>42313.0586</td>\n",
       "      <td>42489.0508</td>\n",
       "      <td>42834.1992</td>\n",
       "      <td>142739600</td>\n",
       "      <td>42834.1992</td>\n",
       "      <td>2</td>\n",
       "    </tr>\n",
       "    <tr>\n",
       "      <td>2019-01-08</td>\n",
       "      <td>43582.1914</td>\n",
       "      <td>43024.5195</td>\n",
       "      <td>43264.1914</td>\n",
       "      <td>43542.8711</td>\n",
       "      <td>174362500</td>\n",
       "      <td>43542.8711</td>\n",
       "      <td>2</td>\n",
       "    </tr>\n",
       "    <tr>\n",
       "      <td>...</td>\n",
       "      <td>...</td>\n",
       "      <td>...</td>\n",
       "      <td>...</td>\n",
       "      <td>...</td>\n",
       "      <td>...</td>\n",
       "      <td>...</td>\n",
       "      <td>...</td>\n",
       "    </tr>\n",
       "    <tr>\n",
       "      <td>2019-12-20</td>\n",
       "      <td>44804.4414</td>\n",
       "      <td>44424.4609</td>\n",
       "      <td>44694.4492</td>\n",
       "      <td>44505.6406</td>\n",
       "      <td>473714200</td>\n",
       "      <td>44505.6406</td>\n",
       "      <td>51</td>\n",
       "    </tr>\n",
       "    <tr>\n",
       "      <td>2019-12-23</td>\n",
       "      <td>44590.9297</td>\n",
       "      <td>44189.2383</td>\n",
       "      <td>44571.2617</td>\n",
       "      <td>44276.8516</td>\n",
       "      <td>92129000</td>\n",
       "      <td>44276.8516</td>\n",
       "      <td>52</td>\n",
       "    </tr>\n",
       "    <tr>\n",
       "      <td>2019-12-24</td>\n",
       "      <td>44298.9414</td>\n",
       "      <td>44108.4492</td>\n",
       "      <td>44275.7891</td>\n",
       "      <td>44157.9688</td>\n",
       "      <td>13691800</td>\n",
       "      <td>44157.9688</td>\n",
       "      <td>52</td>\n",
       "    </tr>\n",
       "    <tr>\n",
       "      <td>2019-12-26</td>\n",
       "      <td>44360.6211</td>\n",
       "      <td>44057.4883</td>\n",
       "      <td>44149.9688</td>\n",
       "      <td>44300.1719</td>\n",
       "      <td>32194100</td>\n",
       "      <td>44300.1719</td>\n",
       "      <td>52</td>\n",
       "    </tr>\n",
       "    <tr>\n",
       "      <td>2019-12-27</td>\n",
       "      <td>44510.7812</td>\n",
       "      <td>44156.8594</td>\n",
       "      <td>44312.5703</td>\n",
       "      <td>44261.5117</td>\n",
       "      <td>59475000</td>\n",
       "      <td>44261.5117</td>\n",
       "      <td>52</td>\n",
       "    </tr>\n",
       "  </tbody>\n",
       "</table>\n",
       "<p>249 rows × 7 columns</p>\n",
       "</div>"
      ],
      "text/plain": [
       "                  High         Low        Open       Close     Volume  \\\n",
       "Date                                                                    \n",
       "2019-01-02  42328.5508  41436.4883  41550.7500  42271.1406   68115200   \n",
       "2019-01-03  42292.3906  41699.7812  42172.2617  42044.3203  113098700   \n",
       "2019-01-04  42661.8398  42024.7695  42024.7695  42455.1289  110987200   \n",
       "2019-01-07  42896.1094  42313.0586  42489.0508  42834.1992  142739600   \n",
       "2019-01-08  43582.1914  43024.5195  43264.1914  43542.8711  174362500   \n",
       "...                ...         ...         ...         ...        ...   \n",
       "2019-12-20  44804.4414  44424.4609  44694.4492  44505.6406  473714200   \n",
       "2019-12-23  44590.9297  44189.2383  44571.2617  44276.8516   92129000   \n",
       "2019-12-24  44298.9414  44108.4492  44275.7891  44157.9688   13691800   \n",
       "2019-12-26  44360.6211  44057.4883  44149.9688  44300.1719   32194100   \n",
       "2019-12-27  44510.7812  44156.8594  44312.5703  44261.5117   59475000   \n",
       "\n",
       "             Adj Close  semana  \n",
       "Date                            \n",
       "2019-01-02  42271.1406       1  \n",
       "2019-01-03  42044.3203       1  \n",
       "2019-01-04  42455.1289       1  \n",
       "2019-01-07  42834.1992       2  \n",
       "2019-01-08  43542.8711       2  \n",
       "...                ...     ...  \n",
       "2019-12-20  44505.6406      51  \n",
       "2019-12-23  44276.8516      52  \n",
       "2019-12-24  44157.9688      52  \n",
       "2019-12-26  44300.1719      52  \n",
       "2019-12-27  44261.5117      52  \n",
       "\n",
       "[249 rows x 7 columns]"
      ]
     },
     "execution_count": 9,
     "metadata": {},
     "output_type": "execute_result"
    }
   ],
   "source": [
    "ipc['semana'] = ipc.index.week\n",
    "ipc"
   ]
  },
  {
   "cell_type": "markdown",
   "metadata": {
    "slideshow": {
     "slide_type": "slide"
    }
   },
   "source": [
    "Comprobamos que tenemos el mismo número de datos para el tipo de cambio y el IPC."
   ]
  },
  {
   "cell_type": "code",
   "execution_count": 10,
   "metadata": {
    "slideshow": {
     "slide_type": "slide"
    }
   },
   "outputs": [
    {
     "data": {
      "text/plain": [
       "(249, 249)"
      ]
     },
     "execution_count": 10,
     "metadata": {},
     "output_type": "execute_result"
    }
   ],
   "source": [
    "len(usd),len (ipc)"
   ]
  },
  {
   "cell_type": "markdown",
   "metadata": {
    "slideshow": {
     "slide_type": "slide"
    }
   },
   "source": [
    "Creamos dos ciclos, el primero es para saber cuántas semanas tenemos en el DataFrame y el segundo es para sacar la correlación con otro ciclo dentro porque los precios de cierre del tipo de cambio no los detecta como numero sino como cadena de texto y lo tenemos que convertir."
   ]
  },
  {
   "cell_type": "code",
   "execution_count": 11,
   "metadata": {
    "slideshow": {
     "slide_type": "slide"
    }
   },
   "outputs": [],
   "source": [
    "semanas=[]\n",
    "for x in ipc['semana']:\n",
    "    if x not in semanas:\n",
    "        semanas.append(x)\n",
    "correlacion=[]\n",
    "for x in semanas:\n",
    "    correlacion.append(np.corrcoef(list(ipc[ipc['semana'] == x]['Adj Close']),[float(x) for x in list(usd[usd['semana'] == x]['Close'])])[0,1])"
   ]
  },
  {
   "cell_type": "markdown",
   "metadata": {
    "slideshow": {
     "slide_type": "slide"
    }
   },
   "source": [
    "Creamos un DataFrame con los datos de la correlación."
   ]
  },
  {
   "cell_type": "code",
   "execution_count": 12,
   "metadata": {
    "scrolled": true,
    "slideshow": {
     "slide_type": "slide"
    }
   },
   "outputs": [
    {
     "data": {
      "text/html": [
       "<div>\n",
       "<style scoped>\n",
       "    .dataframe tbody tr th:only-of-type {\n",
       "        vertical-align: middle;\n",
       "    }\n",
       "\n",
       "    .dataframe tbody tr th {\n",
       "        vertical-align: top;\n",
       "    }\n",
       "\n",
       "    .dataframe thead th {\n",
       "        text-align: right;\n",
       "    }\n",
       "</style>\n",
       "<table border=\"1\" class=\"dataframe\">\n",
       "  <thead>\n",
       "    <tr style=\"text-align: right;\">\n",
       "      <th></th>\n",
       "      <th>Semana</th>\n",
       "      <th>Correlación</th>\n",
       "    </tr>\n",
       "  </thead>\n",
       "  <tbody>\n",
       "    <tr>\n",
       "      <td>0</td>\n",
       "      <td>1</td>\n",
       "      <td>0.0665</td>\n",
       "    </tr>\n",
       "    <tr>\n",
       "      <td>1</td>\n",
       "      <td>2</td>\n",
       "      <td>-0.9493</td>\n",
       "    </tr>\n",
       "    <tr>\n",
       "      <td>2</td>\n",
       "      <td>3</td>\n",
       "      <td>0.6834</td>\n",
       "    </tr>\n",
       "    <tr>\n",
       "      <td>3</td>\n",
       "      <td>4</td>\n",
       "      <td>0.9788</td>\n",
       "    </tr>\n",
       "    <tr>\n",
       "      <td>4</td>\n",
       "      <td>5</td>\n",
       "      <td>0.2757</td>\n",
       "    </tr>\n",
       "    <tr>\n",
       "      <td>5</td>\n",
       "      <td>6</td>\n",
       "      <td>-0.7144</td>\n",
       "    </tr>\n",
       "    <tr>\n",
       "      <td>6</td>\n",
       "      <td>7</td>\n",
       "      <td>0.3272</td>\n",
       "    </tr>\n",
       "    <tr>\n",
       "      <td>7</td>\n",
       "      <td>8</td>\n",
       "      <td>-0.4238</td>\n",
       "    </tr>\n",
       "    <tr>\n",
       "      <td>8</td>\n",
       "      <td>9</td>\n",
       "      <td>-0.8155</td>\n",
       "    </tr>\n",
       "    <tr>\n",
       "      <td>9</td>\n",
       "      <td>10</td>\n",
       "      <td>-0.7866</td>\n",
       "    </tr>\n",
       "    <tr>\n",
       "      <td>10</td>\n",
       "      <td>11</td>\n",
       "      <td>-0.4755</td>\n",
       "    </tr>\n",
       "    <tr>\n",
       "      <td>11</td>\n",
       "      <td>12</td>\n",
       "      <td>0.1381</td>\n",
       "    </tr>\n",
       "    <tr>\n",
       "      <td>12</td>\n",
       "      <td>13</td>\n",
       "      <td>0.7888</td>\n",
       "    </tr>\n",
       "    <tr>\n",
       "      <td>13</td>\n",
       "      <td>14</td>\n",
       "      <td>-0.7270</td>\n",
       "    </tr>\n",
       "    <tr>\n",
       "      <td>14</td>\n",
       "      <td>15</td>\n",
       "      <td>0.9746</td>\n",
       "    </tr>\n",
       "    <tr>\n",
       "      <td>15</td>\n",
       "      <td>16</td>\n",
       "      <td>-0.9411</td>\n",
       "    </tr>\n",
       "    <tr>\n",
       "      <td>16</td>\n",
       "      <td>17</td>\n",
       "      <td>-0.1434</td>\n",
       "    </tr>\n",
       "    <tr>\n",
       "      <td>17</td>\n",
       "      <td>18</td>\n",
       "      <td>0.7151</td>\n",
       "    </tr>\n",
       "    <tr>\n",
       "      <td>18</td>\n",
       "      <td>19</td>\n",
       "      <td>-0.3373</td>\n",
       "    </tr>\n",
       "    <tr>\n",
       "      <td>19</td>\n",
       "      <td>20</td>\n",
       "      <td>-0.2575</td>\n",
       "    </tr>\n",
       "    <tr>\n",
       "      <td>20</td>\n",
       "      <td>21</td>\n",
       "      <td>-0.6587</td>\n",
       "    </tr>\n",
       "    <tr>\n",
       "      <td>21</td>\n",
       "      <td>22</td>\n",
       "      <td>0.6475</td>\n",
       "    </tr>\n",
       "    <tr>\n",
       "      <td>22</td>\n",
       "      <td>23</td>\n",
       "      <td>0.4796</td>\n",
       "    </tr>\n",
       "    <tr>\n",
       "      <td>23</td>\n",
       "      <td>24</td>\n",
       "      <td>0.4157</td>\n",
       "    </tr>\n",
       "    <tr>\n",
       "      <td>24</td>\n",
       "      <td>25</td>\n",
       "      <td>0.0595</td>\n",
       "    </tr>\n",
       "    <tr>\n",
       "      <td>25</td>\n",
       "      <td>26</td>\n",
       "      <td>-0.4521</td>\n",
       "    </tr>\n",
       "    <tr>\n",
       "      <td>26</td>\n",
       "      <td>27</td>\n",
       "      <td>-0.2290</td>\n",
       "    </tr>\n",
       "    <tr>\n",
       "      <td>27</td>\n",
       "      <td>28</td>\n",
       "      <td>0.4599</td>\n",
       "    </tr>\n",
       "    <tr>\n",
       "      <td>28</td>\n",
       "      <td>29</td>\n",
       "      <td>0.4169</td>\n",
       "    </tr>\n",
       "    <tr>\n",
       "      <td>29</td>\n",
       "      <td>30</td>\n",
       "      <td>0.5978</td>\n",
       "    </tr>\n",
       "    <tr>\n",
       "      <td>30</td>\n",
       "      <td>31</td>\n",
       "      <td>-0.8977</td>\n",
       "    </tr>\n",
       "    <tr>\n",
       "      <td>31</td>\n",
       "      <td>32</td>\n",
       "      <td>-0.9003</td>\n",
       "    </tr>\n",
       "    <tr>\n",
       "      <td>32</td>\n",
       "      <td>33</td>\n",
       "      <td>-0.5217</td>\n",
       "    </tr>\n",
       "    <tr>\n",
       "      <td>33</td>\n",
       "      <td>34</td>\n",
       "      <td>0.7234</td>\n",
       "    </tr>\n",
       "    <tr>\n",
       "      <td>34</td>\n",
       "      <td>35</td>\n",
       "      <td>0.0010</td>\n",
       "    </tr>\n",
       "    <tr>\n",
       "      <td>35</td>\n",
       "      <td>36</td>\n",
       "      <td>-0.7157</td>\n",
       "    </tr>\n",
       "    <tr>\n",
       "      <td>36</td>\n",
       "      <td>37</td>\n",
       "      <td>-0.7694</td>\n",
       "    </tr>\n",
       "    <tr>\n",
       "      <td>37</td>\n",
       "      <td>38</td>\n",
       "      <td>-0.6155</td>\n",
       "    </tr>\n",
       "    <tr>\n",
       "      <td>38</td>\n",
       "      <td>39</td>\n",
       "      <td>-0.9295</td>\n",
       "    </tr>\n",
       "    <tr>\n",
       "      <td>39</td>\n",
       "      <td>40</td>\n",
       "      <td>0.0097</td>\n",
       "    </tr>\n",
       "    <tr>\n",
       "      <td>40</td>\n",
       "      <td>41</td>\n",
       "      <td>-0.4639</td>\n",
       "    </tr>\n",
       "    <tr>\n",
       "      <td>41</td>\n",
       "      <td>42</td>\n",
       "      <td>0.2379</td>\n",
       "    </tr>\n",
       "    <tr>\n",
       "      <td>42</td>\n",
       "      <td>43</td>\n",
       "      <td>-0.2933</td>\n",
       "    </tr>\n",
       "    <tr>\n",
       "      <td>43</td>\n",
       "      <td>44</td>\n",
       "      <td>0.0398</td>\n",
       "    </tr>\n",
       "    <tr>\n",
       "      <td>44</td>\n",
       "      <td>45</td>\n",
       "      <td>-0.3327</td>\n",
       "    </tr>\n",
       "    <tr>\n",
       "      <td>45</td>\n",
       "      <td>46</td>\n",
       "      <td>-0.2630</td>\n",
       "    </tr>\n",
       "    <tr>\n",
       "      <td>46</td>\n",
       "      <td>47</td>\n",
       "      <td>0.4851</td>\n",
       "    </tr>\n",
       "    <tr>\n",
       "      <td>47</td>\n",
       "      <td>48</td>\n",
       "      <td>-0.4521</td>\n",
       "    </tr>\n",
       "    <tr>\n",
       "      <td>48</td>\n",
       "      <td>49</td>\n",
       "      <td>0.8905</td>\n",
       "    </tr>\n",
       "    <tr>\n",
       "      <td>49</td>\n",
       "      <td>50</td>\n",
       "      <td>-0.9438</td>\n",
       "    </tr>\n",
       "    <tr>\n",
       "      <td>50</td>\n",
       "      <td>51</td>\n",
       "      <td>-0.3831</td>\n",
       "    </tr>\n",
       "    <tr>\n",
       "      <td>51</td>\n",
       "      <td>52</td>\n",
       "      <td>-0.5045</td>\n",
       "    </tr>\n",
       "  </tbody>\n",
       "</table>\n",
       "</div>"
      ],
      "text/plain": [
       "    Semana  Correlación\n",
       "0        1       0.0665\n",
       "1        2      -0.9493\n",
       "2        3       0.6834\n",
       "3        4       0.9788\n",
       "4        5       0.2757\n",
       "5        6      -0.7144\n",
       "6        7       0.3272\n",
       "7        8      -0.4238\n",
       "8        9      -0.8155\n",
       "9       10      -0.7866\n",
       "10      11      -0.4755\n",
       "11      12       0.1381\n",
       "12      13       0.7888\n",
       "13      14      -0.7270\n",
       "14      15       0.9746\n",
       "15      16      -0.9411\n",
       "16      17      -0.1434\n",
       "17      18       0.7151\n",
       "18      19      -0.3373\n",
       "19      20      -0.2575\n",
       "20      21      -0.6587\n",
       "21      22       0.6475\n",
       "22      23       0.4796\n",
       "23      24       0.4157\n",
       "24      25       0.0595\n",
       "25      26      -0.4521\n",
       "26      27      -0.2290\n",
       "27      28       0.4599\n",
       "28      29       0.4169\n",
       "29      30       0.5978\n",
       "30      31      -0.8977\n",
       "31      32      -0.9003\n",
       "32      33      -0.5217\n",
       "33      34       0.7234\n",
       "34      35       0.0010\n",
       "35      36      -0.7157\n",
       "36      37      -0.7694\n",
       "37      38      -0.6155\n",
       "38      39      -0.9295\n",
       "39      40       0.0097\n",
       "40      41      -0.4639\n",
       "41      42       0.2379\n",
       "42      43      -0.2933\n",
       "43      44       0.0398\n",
       "44      45      -0.3327\n",
       "45      46      -0.2630\n",
       "46      47       0.4851\n",
       "47      48      -0.4521\n",
       "48      49       0.8905\n",
       "49      50      -0.9438\n",
       "50      51      -0.3831\n",
       "51      52      -0.5045"
      ]
     },
     "execution_count": 12,
     "metadata": {},
     "output_type": "execute_result"
    }
   ],
   "source": [
    "weeks=list(range(1, len(correlacion)+1, 1))\n",
    "dt = pd.DataFrame(columns=('Semana', 'Correlación'))\n",
    "dt['Correlación']=correlacion\n",
    "dt['Semana']= weeks\n",
    "dt"
   ]
  },
  {
   "cell_type": "markdown",
   "metadata": {
    "slideshow": {
     "slide_type": "slide"
    }
   },
   "source": [
    "Como podemos ver en la tabla  la mayoría de resultados son negativos. Por lo tanto queremos ver cómo se comportan con la gráfica. En el primer mes solo hay un resultado negativo que ese no nos ayuda tanto, lo que podemos notar es a partir del mes de febrero donde todos los valores ya empiezan a poner se en negativos que es cuando las gráficas se abren, a finales de mes hay resultados positivos que son donde las gráficas se juntan. En marzo las gráficas llegan hasta un -0.9411 el cual es un valor muy cercano al -1 lo cual nos quiere decir que si lleva una correlación negativa. Otro cambio muy notorio es a mediados de año donde las gráficas pasan a la inversa, la que estaba arriba se va abajo y la que estaba abajo se va arriba. Nuestro modelo nos dice que se juegan con las correlaciones, que empiezan en negativas, luego positivas y luego otra vez positivas, es lo que genera este efecto. \n",
    "\n",
    "Para entender un poco más este modelo lo relacionamos con la economía, ¿Por qué el índice de la bolsa mexicana de valores le lleva la contra al tipo de cambio peso/dólar?. Bueno entrándonos un poco más en lo que es el IPC, este se calcula con la variación de precios de las acciones que cotizan en la bolsa, es decir, que puede ser como un promedio de la bolsa. Por otro lado el dólar es un tipo de cambio en cual se llevan todos lo comercio internacionales. Sin más vueltas a la pregunta la respuesta es que el tipo de cambio al tener tanta influencia en el mercado, si este sube, suben todos los precio y si este baja, bajan todos los precios. Cuando el tipo de cambio esta alto los precios suben por lo tanto las personas no compran tanto, y por consecuencia afectan a las empresas y llegan afectar a las que cotizan en bolsa, al aféctale a estas, entonces su valor baja y el índice baja. Entonces tenemos un tipo de cambio elevado y un índice bajo.\n"
   ]
  },
  {
   "cell_type": "markdown",
   "metadata": {
    "slideshow": {
     "slide_type": "slide"
    }
   },
   "source": [
    "Ya entendiendo el modelo quisimos compararlo con otros, uno de ellos es una tendencia dada por el filtro de Hodrick-Prescott es cual es un método para extraer el componente secular o tendencia de una serie temporal, este utiliza Las fluctuaciones cíclicas las cuales son movimientos oscilatorios alrededor de una tendencia. Este filtro descompone la serie observada en dos componentes, uno tendencial y otro cíclico. Se visualiza como en la siguiente gráfica:"
   ]
  },
  {
   "cell_type": "code",
   "execution_count": 13,
   "metadata": {
    "slideshow": {
     "slide_type": "slide"
    }
   },
   "outputs": [
    {
     "data": {
      "image/png": "[encoded data removed]",
      "text/plain": [
       "<Figure size 720x576 with 1 Axes>"
      ]
     },
     "metadata": {
      "needs_background": "light"
     },
     "output_type": "display_data"
    }
   ],
   "source": [
    "# Aplicando el filtro Hodrick-Prescott para separar en tendencia y \n",
    "# componente ciclico.\n",
    "usd.TimeStamp=pd.to_numeric(usd.TimeStamp)\n",
    "usd.Close=pd.to_numeric(usd.Close)\n",
    "\n",
    "#data.plot.scatter(x='TimeStamp',y='Close')\n",
    "\n",
    "usd_ciclo, usd_tend = sm.tsa.filters.hpfilter(usd['Close'])\n",
    "usd['tend'] = usd_tend\n",
    "usd[['Close', 'tend']].plot(figsize=(10, 8), fontsize=12);\n",
    "legend = plt.legend()\n",
    "legend.prop.set_size(14);"
   ]
  },
  {
   "cell_type": "markdown",
   "metadata": {
    "slideshow": {
     "slide_type": "slide"
    }
   },
   "source": [
    "Es un método muy curioso y muy interesante pero la desventaja es que no se puede predecir mucho hacia dónde va la tendencia. Por lo que pensamos que sería muy bueno agregarle un modelo Monte Carlo para generar diversos escenarios para ver cuál escogeríamos para tomar la tendencia. "
   ]
  },
  {
   "cell_type": "markdown",
   "metadata": {
    "slideshow": {
     "slide_type": "slide"
    }
   },
   "source": [
    "También utilizamos el modelo de promedios móviles los cuales son un cálculo utilizado para analizar un conjunto de datos en modo de puntos para crear series de promedios. Pero el problema es que son un poco de complicados de utilizar y no siempre se juntan las gráficas. Pero nosotros notamos una buena opción de trading utilizar nuestro modelo junto con este para que creen buena mancuerna. En la siguiente grafica se ven los promedios móviles:"
   ]
  },
  {
   "cell_type": "code",
   "execution_count": 15,
   "metadata": {
    "slideshow": {
     "slide_type": "slide"
    }
   },
   "outputs": [
    {
     "data": {
      "image/png": "[encoded data removed]",
      "text/plain": [
       "<Figure size 720x576 with 1 Axes>"
      ]
     },
     "metadata": {
      "needs_background": "light"
     },
     "output_type": "display_data"
    }
   ],
   "source": [
    "# Calculando promedios móviles cada 2 y 5 días\n",
    "usd_ma = usd[\"Close\"].rolling(10).mean()\n",
    "usd['prod_mov'] = usd_ma\n",
    "usd_ma2 = usd[\"Close\"].rolling(20).mean()\n",
    "usd['prod_mov2'] = usd_ma2\n",
    "plot =usd[['Close', 'prod_mov','prod_mov2']].plot(figsize=(10, 8), fontsize=12)"
   ]
  },
  {
   "cell_type": "markdown",
   "metadata": {
    "slideshow": {
     "slide_type": "slide"
    }
   },
   "source": [
    "Los promedios móviles son un cálculo utilizado para analizar un conjunto de datos en modo de puntos para crear series de promedios. Pero tampoco es muy efectivo y utilizando en conjunto con nuestro modelo pudiera funcionar bien."
   ]
  }
 ],
 "metadata": {
  "celltoolbar": "Slideshow",
  "kernelspec": {
   "display_name": "Python 3",
   "language": "python",
   "name": "python3"
  },
  "language_info": {
   "codemirror_mode": {
    "name": "ipython",
    "version": 3
   },
   "file_extension": ".py",
   "mimetype": "text/x-python",
   "name": "python",
   "nbconvert_exporter": "python",
   "pygments_lexer": "ipython3",
   "version": "3.7.4"
  }
 },
 "nbformat": 4,
 "nbformat_minor": 2
}
